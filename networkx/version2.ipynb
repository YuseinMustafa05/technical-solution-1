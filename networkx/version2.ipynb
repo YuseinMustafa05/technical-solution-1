{
 "cells": [
  {
   "cell_type": "code",
   "execution_count": 1,
   "metadata": {},
   "outputs": [
    {
     "data": {
      "text/plain": [
       "['Oxford Circus',\n",
       " ('Oxford Circus', 'Victoria Line'),\n",
       " ('Warren Street', 'Victoria Line'),\n",
       " ('Euston', 'Victoria Line'),\n",
       " (\"King's Cross St. Pancras\", 'Victoria Line'),\n",
       " ('Highbury & Islington', 'Victoria Line'),\n",
       " ('Finsbury Park', 'Victoria Line'),\n",
       " ('Finsbury Park', 'Piccadilly Line'),\n",
       " ('Manor House', 'Piccadilly Line'),\n",
       " ('Turnpike Lane', 'Piccadilly Line'),\n",
       " 'Turnpike Lane']"
      ]
     },
     "execution_count": 1,
     "metadata": {},
     "output_type": "execute_result"
    }
   ],
   "source": [
    "import colorsys\n",
    "from multiprocessing import connection\n",
    "\n",
    "import pandas as pd\n",
    "import networkx as nx\n",
    "import matplotlib.pyplot as plt\n",
    "\n",
    "lines = pd.read_csv(\"london.lines.csv\", index_col=0)\n",
    "stations = pd.read_csv(\"underground_stations.csv\", index_col=0)\n",
    "connections = pd.read_csv(\"london.connections.csv\")\n",
    "\n",
    "stations.drop('display_name', axis=1, inplace=True)\n",
    "\n",
    "graph = nx.Graph()\n",
    "\n",
    "\n",
    "for connection_id, stationID in connections.iterrows():\n",
    "    \n",
    "\n",
    "\n",
    "    lineName = lines.loc[stationID[\"line\"]]['name']\n",
    "    station1_name = stations.loc[stationID[\"station1\"]][\"name\"]\n",
    "    station2_name = stations.loc[stationID[\"station2\"]][\"name\"]\n",
    "\n",
    "    node1 = (station1_name, lineName)\n",
    "    node2 = (station2_name, lineName)\n",
    "\n",
    "    graph.add_edge(node1, node2, time=stationID[\"time\"])\n",
    "    graph.add_edge(node1, station1_name, time=1)\n",
    "    graph.add_edge(node2, station2_name, time=1)\n",
    "    \n",
    "    \n",
    "    \n",
    "    for neighbor in graph.neighbors(station1_name):\n",
    "        graph.add_edge(node1, neighbor, time = 0.5)        \n",
    "    for neighbor in graph.neighbors(station2_name):\n",
    "        graph.add_edge(node2, neighbor, time = 0.5)\n",
    "\n",
    "graph.add_edge('Bank', 'Monument', time = 1)\n",
    "\n",
    "\n",
    "nx.shortest_path(graph, 'Oxford Circus', 'Turnpike Lane', weight='time')\n"
   ]
  }
 ],
 "metadata": {
  "kernelspec": {
   "display_name": "Python 3.9.13 ('base')",
   "language": "python",
   "name": "python3"
  },
  "language_info": {
   "codemirror_mode": {
    "name": "ipython",
    "version": 3
   },
   "file_extension": ".py",
   "mimetype": "text/x-python",
   "name": "python",
   "nbconvert_exporter": "python",
   "pygments_lexer": "ipython3",
   "version": "3.9.13"
  },
  "orig_nbformat": 4,
  "vscode": {
   "interpreter": {
    "hash": "2473fcdb4d9ec8f146915783ccdf49eae668d403338bd9ae9fb431388aaa5844"
   }
  }
 },
 "nbformat": 4,
 "nbformat_minor": 2
}
